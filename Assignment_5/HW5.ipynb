{
 "cells": [
  {
   "cell_type": "code",
   "execution_count": 12,
   "id": "a6e1bb88-703a-4c22-b4af-0d680c608190",
   "metadata": {},
   "outputs": [
    {
     "name": "stdout",
     "output_type": "stream",
     "text": [
      "(569, 30)\n",
      "Best Hyperparameters: {'criterion': 'entropy', 'n_estimators': 150}\n",
      "Accuracy: 0.96\n",
      "Accuracy per feature: 0.48\n",
      "Number of features: 2\n"
     ]
    }
   ],
   "source": [
    "from sklearn.model_selection import train_test_split, cross_val_score, GridSearchCV  # Import GridSearchCV\n",
    "from sklearn.datasets import load_breast_cancer\n",
    "from sklearn.metrics import accuracy_score\n",
    "from sklearn.ensemble import RandomForestClassifier\n",
    "import numpy as np\n",
    " \n",
    "# Load the breast_cancer dataset\n",
    "data = load_breast_cancer()\n",
    "X, y = data.data, data.target\n",
    " \n",
    "# Split the data into training and testing sets\n",
    "X_train, X_test, y_train, y_test = train_test_split(X, y, test_size=0.2, random_state=0)\n",
    " \n",
    "# Tune hyperparameters using GridSearchCV\n",
    "param_grid = {\n",
    "    'n_estimators': [50, 150, 200, 10],\n",
    "    'criterion': ['gini', 'entropy', 'log_loss'],\n",
    "}\n",
    " \n",
    "clf = RandomForestClassifier(random_state=0)\n",
    "grid_search = GridSearchCV(clf, param_grid, cv=5, scoring='accuracy')\n",
    "grid_search.fit(X_train, y_train)\n",
    "best_params = grid_search.best_params_\n",
    "\n",
    "\n",
    "\n",
    "# Train a RandomForestClassifier with the best hyperparameters\n",
    "best_clf = RandomForestClassifier(random_state=0, **best_params)\n",
    "best_clf.fit(X_train, y_train)\n",
    "num_features = best_clf.n_classes_\n",
    " \n",
    "# Perform 5-fold cross-validation to get an average accuracy score\n",
    "scores = cross_val_score(best_clf, X_train, y_train, cv=5)\n",
    " \n",
    "# Calculate the average accuracy and accuracy per feature\n",
    "avg_accuracy = np.mean(scores)\n",
    "accuracy_per_feature = avg_accuracy / num_features\n",
    " \n",
    "print(X.shape)\n",
    "print(f\"Best Hyperparameters: {best_params}\")\n",
    "print(f\"Accuracy: {avg_accuracy:.2f}\")\n",
    "print(f\"Accuracy per feature: {accuracy_per_feature:.2f}\")\n",
    "print(f\"Number of features: {num_features}\")"
   ]
  },
  {
   "cell_type": "code",
   "execution_count": null,
   "id": "df8a08eb-fb50-4367-ae47-65e07efdf5ea",
   "metadata": {},
   "outputs": [],
   "source": []
  }
 ],
 "metadata": {
  "kernelspec": {
   "display_name": "Python 3 (ipykernel)",
   "language": "python",
   "name": "python3"
  },
  "language_info": {
   "codemirror_mode": {
    "name": "ipython",
    "version": 3
   },
   "file_extension": ".py",
   "mimetype": "text/x-python",
   "name": "python",
   "nbconvert_exporter": "python",
   "pygments_lexer": "ipython3",
   "version": "3.10.12"
  }
 },
 "nbformat": 4,
 "nbformat_minor": 5
}
