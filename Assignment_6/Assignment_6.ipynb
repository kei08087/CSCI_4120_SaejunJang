{
 "cells": [
  {
   "cell_type": "code",
   "execution_count": 1,
   "id": "b7d37c4f-1f5d-4f81-a833-2b2ad65f62f6",
   "metadata": {},
   "outputs": [
    {
     "data": {
      "image/png": "[encoded data removed]",
      "text/plain": [
       "<Figure size 720x288 with 40 Axes>"
      ]
     },
     "metadata": {},
     "output_type": "display_data"
    }
   ],
   "source": [
    "%matplotlib inline\n",
    "import numpy as np\n",
    "import matplotlib.pyplot as plt\n",
    "from scipy import stats\n",
    "\n",
    "# use seaborn plotting defaults\n",
    "import seaborn as sns; sns.set()\n",
    "from sklearn import datasets, svm, metrics\n",
    "\n",
    "# The digits dataset\n",
    "digits = datasets.load_digits()\n",
    "\n",
    "def plot_digits(data):\n",
    "    fig, axes = plt.subplots(4, 10, figsize=(10, 4),\n",
    "                             subplot_kw={'xticks':[], 'yticks':[]},\n",
    "                             gridspec_kw=dict(hspace=0.1, wspace=0.1))\n",
    "    for i, ax in enumerate(axes.flat):\n",
    "        ax.imshow(data[i].reshape(8, 8),\n",
    "                  cmap='binary', interpolation='nearest',\n",
    "                  clim=(0, 16))\n",
    "plot_digits(digits.data)"
   ]
  },
  {
   "cell_type": "code",
   "execution_count": 2,
   "id": "9aadba84-bc5e-4779-a697-3f73ab93b44a",
   "metadata": {},
   "outputs": [
    {
     "name": "stdout",
     "output_type": "stream",
     "text": [
      "coverage: 80.28932887793746%\n",
      "Best parameters: {'kernel': 'rbf', 'gamma': 'scale', 'degree': 6}\n",
      "Best score: 0.9666233364283503\n",
      "Best linear parameters: {'gamma': 0.5, 'degree': 3}\n",
      "Best linear score: 0.9187604456824513\n",
      "Best poly parameters: {'gamma': 0.5, 'degree': 3}\n",
      "Best poly score: 0.9516109563602599\n"
     ]
    }
   ],
   "source": [
    "from sklearn.model_selection import RandomizedSearchCV\n",
    "from sklearn.decomposition import PCA\n",
    " \n",
    "#SVC(probability=True) has 5-cross validation inside itself\n",
    "svc = svm.SVC(C=1,probability=True);\n",
    "pca = PCA(13)\n",
    "#degree is considered only in 'poly', gamma is ignored in 'linear'\n",
    "dist=dict(kernel=['linear','rbf','poly'],gamma=['scale','auto',0.5],degree=[1,2,3,4,5,6,7])\n",
    "pc = pca.fit_transform(digits.data)\n",
    "clf=RandomizedSearchCV(svc,dist,random_state=0)\n",
    "search = clf.fit(pc,digits.target)\n",
    "rat=pca.explained_variance_ratio_.sum()\n",
    "print(f\"coverage: {rat*100}%\")\n",
    "print(f\"Best parameters: {clf.best_params_}\")\n",
    " \n",
    "print(f\"Best score: {clf.best_score_}\")\n",
    " \n",
    "sub_dist=dict(gamma=['scale','auto',0.5],degree=[1,2,3,4,5,6,7])\n",
    "lin_svc=svm.SVC(C=1,kernel='linear',probability=True)\n",
    "poly_svc=svm.SVC(C=1,kernel='poly',probability=True)\n",
    " \n",
    "best_lin = RandomizedSearchCV(lin_svc,sub_dist,random_state=0).fit(pc,digits.target)\n",
    "best_poly = RandomizedSearchCV(poly_svc,sub_dist,random_state=0).fit(pc,digits.target)\n",
    " \n",
    "print(f\"Best linear parameters: {best_lin.best_params_}\")\n",
    "print(f\"Best linear score: {best_lin.best_score_}\")\n",
    "print(f\"Best poly parameters: {best_poly.best_params_}\")\n",
    "print(f\"Best poly score: {best_poly.best_score_}\")"
   ]
  },
  {
   "cell_type": "code",
   "execution_count": 13,
   "id": "c64227e3-8007-4704-b62f-359c00063c44",
   "metadata": {},
   "outputs": [
    {
     "name": "stdout",
     "output_type": "stream",
     "text": [
      "coverage: 80.54233746822142%\n",
      "Best parameters: {'svc__C': 14.392890374805265, 'svc__degree': 4, 'svc__gamma': 0.1381300837033221, 'svc__kernel': 'poly'}\n",
      "Best score: 0.9688172931295608\n",
      "Best linear parameters: {'C': 15.676677195506059, 'degree': 5, 'gamma': 23.826650493636627}\n",
      "Best linear score: 0.9814484372848685\n",
      "Best radial parameters: {'C': 220.9607086872955, 'degree': 8, 'gamma': 0.022310905607443036}\n",
      "Best radial score: 0.2450117031529671\n",
      "Best poly parameters: {'C': 0.1204685241203032, 'degree': 3, 'gamma': 67.39390723749764}\n",
      "Best poly score: 0.9903483409059616\n"
     ]
    }
   ],
   "source": [
    "from sklearn.model_selection import RandomizedSearchCV, train_test_split, cross_val_score\n",
    "from sklearn.decomposition import PCA\n",
    "from sklearn.pipeline import make_pipeline\n",
    "# Split the data into training and testing sets\n",
    "X_train, X_test, y_train, y_test = train_test_split(digits.data, digits.target, random_state = 0)\n",
    "\n",
    "\n",
    "svc = svm.SVC();\n",
    "pca = PCA(n_components=0.8)\n",
    "model = make_pipeline(pca, svc)\n",
    "param_dist = {\n",
    "    'svc__C': stats.reciprocal(0.1, 1000), # for linear kernel\n",
    "    'svc__gamma': stats.reciprocal(0.01, 100), # for radial kernel\n",
    "    'svc__degree': list(range(0, 10)),  # for polynomial kernel\n",
    "    'svc__kernel': ['linear', 'rbf', 'poly']\n",
    "}\n",
    "\n",
    "random_search = RandomizedSearchCV(model, param_distributions=param_dist, cv=5)\n",
    "random_search.fit(X_train, y_train)\n",
    "pc=pca.fit_transform(X_train)\n",
    "rat=pca.explained_variance_ratio_.sum()\n",
    "print(f\"coverage: {rat*100}%\")\n",
    "\n",
    "print(f\"Best parameters: {random_search.best_params_}\")\n",
    "\n",
    "\n",
    "cross_val_accuracy = cross_val_score(random_search.best_estimator_, X_train, y_train, cv=5, scoring='accuracy')\n",
    "\n",
    "print(f\"Best score: {cross_val_accuracy.mean()}\")\n",
    "\n",
    "sub_param_dist = {\n",
    "    'C': stats.reciprocal(0.1, 1000), # for linear kernel\n",
    "    'gamma': stats.reciprocal(0.01, 100), # for radial kernel\n",
    "    'degree': list(range(0, 10)),  # for polynomial kernel\n",
    "}\n",
    "lin_svc=svm.SVC(kernel='linear',probability=True)\n",
    "rad_svc=svm.SVC(kernel='rbf',probability=True)\n",
    "poly_svc=svm.SVC(kernel='poly',probability=True)\n",
    "\n",
    "\n",
    "\n",
    "best_lin = RandomizedSearchCV(lin_svc,sub_param_dist,random_state=0).fit(X_train,y_train)\n",
    "best_rad = RandomizedSearchCV(rad_svc,sub_param_dist,random_state=0).fit(X_train,y_train)\n",
    "best_poly = RandomizedSearchCV(poly_svc,sub_param_dist,random_state=0).fit(X_train,y_train)\n",
    "\n",
    "print(f\"Best linear parameters: {best_lin.best_params_}\")\n",
    "print(f\"Best linear score: {best_lin.best_score_}\")\n",
    "print(f\"Best radial parameters: {best_rad.best_params_}\")\n",
    "print(f\"Best radial score: {best_rad.best_score_}\")\n",
    "print(f\"Best poly parameters: {best_poly.best_params_}\")\n",
    "print(f\"Best poly score: {best_poly.best_score_}\")\n",
    "\n"
   ]
  },
  {
   "cell_type": "code",
   "execution_count": null,
   "id": "67c997b9-791a-4bb8-870a-19d8a105c498",
   "metadata": {},
   "outputs": [],
   "source": []
  }
 ],
 "metadata": {
  "kernelspec": {
   "display_name": "Python 3 (ipykernel)",
   "language": "python",
   "name": "python3"
  },
  "language_info": {
   "codemirror_mode": {
    "name": "ipython",
    "version": 3
   },
   "file_extension": ".py",
   "mimetype": "text/x-python",
   "name": "python",
   "nbconvert_exporter": "python",
   "pygments_lexer": "ipython3",
   "version": "3.10.12"
  }
 },
 "nbformat": 4,
 "nbformat_minor": 5
}
